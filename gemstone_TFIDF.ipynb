{
  "nbformat": 4,
  "nbformat_minor": 0,
  "metadata": {
    "colab": {
      "name": "gemstone_TFIDF.ipynb",
      "provenance": [],
      "authorship_tag": "ABX9TyMozvnaVsoiSMm9ZaZ8QbNf",
      "include_colab_link": true
    },
    "kernelspec": {
      "name": "python3",
      "display_name": "Python 3"
    }
  },
  "cells": [
    {
      "cell_type": "markdown",
      "metadata": {
        "id": "view-in-github",
        "colab_type": "text"
      },
      "source": [
        "<a href=\"https://colab.research.google.com/github/jlartey10/TF-IDF/blob/master/gemstone_TFIDF.ipynb\" target=\"_parent\"><img src=\"https://colab.research.google.com/assets/colab-badge.svg\" alt=\"Open In Colab\"/></a>"
      ]
    },
    {
      "cell_type": "code",
      "metadata": {
        "id": "W_-t5j-hgPD_"
      },
      "source": [
        "import nltk\n",
        "from nltk.tokenize import RegexpTokenizer\n",
        "from nltk.tokenize import word_tokenize\n",
        "from nltk.corpus import stopwords\n",
        "from nltk.stem import PorterStemmer, WordNetLemmatizer \n",
        "from nltk.tokenize import sent_tokenize\n",
        "# nltk.download('wordnet')\n",
        "# nltk.download('punkt')\n",
        "# nltk.download('stopwords')"
      ],
      "execution_count": null,
      "outputs": []
    },
    {
      "cell_type": "code",
      "metadata": {
        "id": "F5oLtc9SgkGi",
        "colab": {
          "resources": {
            "http://localhost:8080/nbextensions/google.colab/files.js": {
              "data": "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",
              "ok": true,
              "headers": [
                [
                  "content-type",
                  "application/javascript"
                ]
              ],
              "status": 200,
              "status_text": ""
            }
          },
          "base_uri": "https://localhost:8080/",
          "height": 72
        },
        "outputId": "c13c91a0-7d82-4177-f979-dcefab9a6952"
      },
      "source": [
        "from google.colab import files\n",
        "uploaded = files.upload()"
      ],
      "execution_count": null,
      "outputs": [
        {
          "output_type": "display_data",
          "data": {
            "text/html": [
              "\n",
              "     <input type=\"file\" id=\"files-bd663adf-63c9-4f04-838d-b9871ca4eaf4\" name=\"files[]\" multiple disabled\n",
              "        style=\"border:none\" />\n",
              "     <output id=\"result-bd663adf-63c9-4f04-838d-b9871ca4eaf4\">\n",
              "      Upload widget is only available when the cell has been executed in the\n",
              "      current browser session. Please rerun this cell to enable.\n",
              "      </output>\n",
              "      <script src=\"/nbextensions/google.colab/files.js\"></script> "
            ],
            "text/plain": [
              "<IPython.core.display.HTML object>"
            ]
          },
          "metadata": {
            "tags": []
          }
        },
        {
          "output_type": "stream",
          "text": [
            "Saving data_scientist_job_description.txt to data_scientist_job_description.txt\n"
          ],
          "name": "stdout"
        }
      ]
    },
    {
      "cell_type": "code",
      "metadata": {
        "id": "j2OufIsKgkon"
      },
      "source": [
        "fo = open(\"resume1.txt\", \"r\", encoding= 'utf-8')\n",
        "resume1 = fo.read()\n",
        "\n",
        "fo = open(\"resume2.txt\", \"r\", encoding= 'utf-8')\n",
        "resume2 = fo.read()\n",
        "\n",
        "fo = open(\"resume3.txt\", \"r\", encoding= 'utf-8')\n",
        "resume3 = fo.read()\n",
        "\n",
        "fo = open(\"data_scientist_job_description.txt\", \"r\", encoding= 'utf-8')\n",
        "job_description = fo.read()\n",
        "\n",
        "\n"
      ],
      "execution_count": null,
      "outputs": []
    },
    {
      "cell_type": "code",
      "metadata": {
        "id": "KdTydFWTQnVi",
        "colab": {
          "base_uri": "https://localhost:8080/",
          "height": 120
        },
        "outputId": "28f2981d-7f58-4379-d60b-746899a14c95"
      },
      "source": [
        "resume1"
      ],
      "execution_count": null,
      "outputs": [
        {
          "output_type": "execute_result",
          "data": {
            "application/vnd.google.colaboratory.intrinsic+json": {
              "type": "string"
            },
            "text/plain": [
              "'Jason C. Abkowitz \\n\\n3223 1st Street North \\nArlington, VA 22201 \\n\\n(615) 479-8279 \\nj.abkowitz@gmail.com \\n\\nTS/SCI (with CI polygraph): Active \\n\\n  \\n\\nCareer Objective               \\n \\nTo apply my interests and capabilities in information technology and spatial analysis to help solve \\ntimely and critical problems that influence safety, security, environmental quality and the economy. \\n \\n\\nEducation \\n\\n \\nMaster of Science in Geospatial Information Science, 2015 \\nUniversity of Maryland, College Park, MD \\n \\nBachelor of Arts in Geography, 2011 \\nMiami University, Oxford, OH \\n  \\n\\nTechnical Skills \\n \\nWeb: Amazon Web Services, Search Engine Optimization, JQuery, WordPress. \\nLanguages: HTML, JavaScript, CSS, PHP, Python. \\nDatabase: MySQL, Oracle, PostgreSQL, SQL. \\nMicrosoft: Excel, Access, Word, Outlook, Publisher, PowerShell, SharePoint. \\nGIS: ArcGIS for Desktop 10.x, ArcGIS Server 10.x, ArcSDE, ArcGIS JavaScript API, ArcGIS Online, \\nGoogle Maps API, QGIS, GeoServer, Mapbox, OpenLayers.   \\n\\n  \\n\\nProfessional Experience \\n \\nRaytheon Intelligence, Information, and Services \\nReston, VA \\nGeospatial Systems Design Engineer    February 2015-Present \\n \\n\\n\\uf0b7 Established servers to host geospatial content and built custom web GIS applications for \\nanalysts to utilize in their everyday work role. \\n\\n\\uf0b7 Developed applications on tablets for custom data collection while conducting field work. \\n\\n\\uf0b7 Created custom dynamic website to host multiple datasets and maintain content integrity. \\n\\n\\uf0b7 Performed GIS geotechnical site characterizations of certain infrastructure for the DOD. \\n\\n\\uf0b7 Raytheon spot award for outstanding performance. \\n \\n\\nNational Geospatial-Intelligence Agency (NGA) \\nSpringfield, VA \\nGeospatial Analyst        June 2014 – February 2015 \\n \\n\\n\\uf0b7 Created Python scripts to scrape web content and developed a website for viewing, querying, \\nand downloading country wide human geography GIS content. \\n\\n\\uf0b7 Participated in NGA’s response to the Ebola epidemic by providing potential options for \\ncrowdsourced geospatial content from cell phones. \\n\\n\\uf0b7 Helped disseminate human geographic data throughout various government agencies.  \\n \\n\\nmailto:j.abkowitz@gmail.com\\n\\n\\n3 Sigma Consulting \\nNashville, TN \\nGIS Analyst        August 2013-May 2015  \\n \\n\\n \\n\\n\\uf0b7 Performed climate and extreme weather vulnerability assessment for Tennessee Department of \\n\\nTransportation of critical transportation infrastructure located in the state. \\n\\n\\uf0b7 Obtained and enhanced various GIS datasets for transportation planning projects sponsored by \\n\\nthe U.S. Department of Energy. \\n\\n \\n\\nNational Consortium for the Study of Terrorism and Response to Terrorism \\n(START) \\nCollege Park, MD \\nGIS Analyst        December 2013 – May 2014 \\n \\n\\n\\uf0b7 Extracted FAA and AIS data from Oracle databases using SQL to develop intricate air and \\nwaterway GIS networks to help combat illicit drug trafficking and counterterrorism threats. \\n \\n\\nNational Aeronautics and Space Administration (NASA), Goddard Space Flight \\nCenter \\nGreenbelt, MD \\nDEVELOP National Program                                                         January 2014 – May 2014 \\n \\n\\n\\uf0b7 Utilized Landsat and MODIS imagery to advance water extraction techniques from imagery for \\nnear real-time flood mapping of the Mekong River Delta. \\n\\n\\uf0b7 Deployed a website to display real-time flood events as a warning system for residents \\ndownstream of the Mekong River. \\n\\n \\nUnited States Senate, U.S. Senator Bob Corker \\nWashington, D.C. \\nIntern/Analyst       January 2014 – May 2014 \\n \\n\\n\\uf0b7 Developed Python scripts to automate mapping locations where Senator Corker received written \\ncomments from constituents resulting in immediate analysis capabilities in near real time. \\n\\n\\uf0b7 Used U.S. Census data to perform demographic analyses for future campaigning endeavors.    \\n \\nVanderbilt University, Dept. of Civil and Environmental Engineering                \\nNashville, TN \\nGIS Analyst                                                                                          June 2011 – August 2013 \\n\\n \\n\\n● Developed a GIS intermodal transportation network for analyzing freight flows resulting in \\noptimized transportation routes for hazardous materials. \\n\\n● Analyzed the effects of environmental stressors in Bangladesh using Landsat satellite imagery to \\nidentify changes in land-use patterns affecting human migration.  \\n \\n'"
            ]
          },
          "metadata": {
            "tags": []
          },
          "execution_count": 8
        }
      ]
    },
    {
      "cell_type": "code",
      "metadata": {
        "id": "7M9qwj2aGBys"
      },
      "source": [
        "def preprocessing(corpus):\n",
        "  #Stemer and lemmatizer function\n",
        "  def stemer_lemmatizer(stopwords_tokens):\n",
        "    processed = []\n",
        "    stemmer = PorterStemmer()\n",
        "    lemmatizer = WordNetLemmatizer()\n",
        "    for x,test_word in enumerate(stopwords_tokens):\n",
        "      word_stem = stemmer.stem(test_word)\n",
        "      word_lemmatise = lemmatizer.lemmatize(word_stem)\n",
        "      processed.append(word_lemmatise)\n",
        "    return processed\n",
        "    \n",
        "  #Text proceccing function\n",
        "  def process_text(mytext):\n",
        "    tokenizer = RegexpTokenizer(r'[^\\d\\W]+')\n",
        "    regexp_tokens = tokenizer.tokenize(mytext.lower())\n",
        "    stopwords_tokens = [token for token in regexp_tokens if token not in stopwords.words('english')]\n",
        "    return stopwords_tokens\n",
        "\n",
        "  # Python program to convert a list \n",
        "  # to string using join() function \n",
        "      \n",
        "  # Function to convert   \n",
        "  def listToString(s):  \n",
        "      \n",
        "      # initialize an empty string \n",
        "      str1 = \" \" \n",
        "      \n",
        "      # return string   \n",
        "      return (str1.join(s)) \n",
        "        \n",
        "  #Call functions\n",
        "  processed = process_text(corpus)\n",
        "  processed = stemer_lemmatizer(processed)\n",
        "  processed = listToString(processed)\n",
        "\n",
        "  return processed\n",
        "        \n"
      ],
      "execution_count": null,
      "outputs": []
    },
    {
      "cell_type": "code",
      "metadata": {
        "id": "gcSs92TNGjcU"
      },
      "source": [
        "#Call functions\n",
        "resume1 = preprocessing(resume1)\n",
        "resume2 = preprocessing(resume2)\n",
        "resume3 = preprocessing(resume3)\n",
        "job_description = preprocessing(job_description)"
      ],
      "execution_count": null,
      "outputs": []
    },
    {
      "cell_type": "code",
      "metadata": {
        "id": "fHAGCaUzujkg",
        "colab": {
          "base_uri": "https://localhost:8080/",
          "height": 137
        },
        "outputId": "9a7d0d5c-3d00-46cb-d2e6-442e45d96782"
      },
      "source": [
        "text = [resume3, job_description]\n",
        "text[1]\n",
        "text[0]"
      ],
      "execution_count": null,
      "outputs": [
        {
          "output_type": "execute_result",
          "data": {
            "application/vnd.google.colaboratory.intrinsic+json": {
              "type": "string"
            },
            "text/plain": [
              "'experi philadelphia pa senior princip data scientist present work close head analyt cyber secur team product team develop model tool insur creat predict model project cyber secur risk year experienc work highli sophist model work multipl complex data sourc larg scale time drive multipl analyt project high complex strateg valu execut visibl commun champion strateg long rang capit propos usag plan high level manag financ busi line strategi function lead team data scientist special rang statist natur languag process machin learn techniqu new york ny think big princip data scientist year work speech nlp research implement provid consult analyt solut team build speech nlp packag solut offer stay date latest speech nlp research applic share intern build speech nlp solut tool pytorch tensorflow mxnet et al mentor data scientist data engin speech nlp problem hand leadership consult support speech nlp project subject matter expert deep learn base speech nlp domain boston princip data scientist lead core team data scientist design develop model make palo alto network predict enterpris measur effect improv deep analysi data perform metric strive cost effect high qualiti improv partner ge softwar engag manag shape statement work data scienc opportun ge softwar solut consult assist softwar engin proven techniqu includ design develop efficaci test execut product specif system design develop system integr develop algorithm base insight improv ad select deliveri price dig larg data set clean necessari develop insight use improv ad select deliveri price educ bachelor degre comput scienc howard univers skill strong conceptu creativ problem solv skill abil work consider ambigu abil learn new complex concept quickli abil explor differ direct base data abl quickli chang direct base analysi except attent detail ensur deliver high qualiti excel commun present skill abil commun result analys clear effect manner strong influenc relationship manag skill comfort interact manag level solid knowledg experi scientif comput platform e g scikit learn weka mllib strong voic data integr report qualiti util best practic industri standard strong understand background probabl theori random process statist optim techniqu abil test idea adapt method quickli end end data extract implement valid strong interperson oral written commun present skill abil commun complex find simpl manner'"
            ]
          },
          "metadata": {
            "tags": []
          },
          "execution_count": 216
        }
      ]
    },
    {
      "cell_type": "markdown",
      "metadata": {
        "id": "a2jCuClhtlOT"
      },
      "source": [
        "First off, if you want to extract count features and apply TF-IDF normalization and row-wise euclidean normalization you can do it in one operation with TfidfVectorizer:"
      ]
    },
    {
      "cell_type": "code",
      "metadata": {
        "id": "lZwkly0Qjsnr",
        "colab": {
          "base_uri": "https://localhost:8080/",
          "height": 51
        },
        "outputId": "6b0a7fe6-b54c-44a4-ae53-f13fc2b0b558"
      },
      "source": [
        "from sklearn.feature_extraction.text import TfidfVectorizer\n",
        "\n",
        "vectorizer = TfidfVectorizer(stop_words='english')\n",
        "tfidf = vectorizer.fit_transform(text)\n",
        "\n",
        "tfidf"
      ],
      "execution_count": null,
      "outputs": [
        {
          "output_type": "execute_result",
          "data": {
            "text/plain": [
              "<2x254 sparse matrix of type '<class 'numpy.float64'>'\n",
              "\twith 301 stored elements in Compressed Sparse Row format>"
            ]
          },
          "metadata": {
            "tags": []
          },
          "execution_count": 217
        }
      ]
    },
    {
      "cell_type": "markdown",
      "metadata": {
        "id": "z2hLEjOjBDaU"
      },
      "source": [
        "get_feature_names() method show unique words (without stop words) in the document."
      ]
    },
    {
      "cell_type": "code",
      "metadata": {
        "id": "Gh1uWtlTA2tA",
        "colab": {
          "base_uri": "https://localhost:8080/",
          "height": 54
        },
        "outputId": "6fe062bd-d8cf-43ae-8240-c59accced2da"
      },
      "source": [
        "print(vectorizer.get_feature_names())"
      ],
      "execution_count": null,
      "outputs": [
        {
          "output_type": "stream",
          "text": [
            "['abil', 'abl', 'accept', 'access', 'acquisit', 'ad', 'adapt', 'advanc', 'al', 'algorithm', 'alto', 'ambigu', 'analys', 'analysi', 'analyt', 'appli', 'applic', 'architectur', 'assist', 'associ', 'assur', 'attent', 'bachelor', 'background', 'base', 'best', 'big', 'boston', 'build', 'busi', 'capabl', 'capit', 'certain', 'certif', 'champion', 'chang', 'clean', 'clear', 'close', 'coach', 'comfort', 'commun', 'complex', 'comput', 'concept', 'conceptu', 'consider', 'consult', 'core', 'cost', 'creat', 'creativ', 'cyber', 'data', 'databas', 'date', 'deep', 'degre', 'deliver', 'deliveri', 'design', 'develop', 'differ', 'dig', 'direct', 'directli', 'domain', 'drive', 'educ', 'effect', 'efficaci', 'end', 'engag', 'engin', 'ensur', 'enterpris', 'et', 'excel', 'execut', 'experi', 'experienc', 'expert', 'expertis', 'explor', 'extens', 'extract', 'financ', 'function', 'ge', 'hand', 'head', 'high', 'highli', 'howard', 'idea', 'implement', 'improv', 'includ', 'industri', 'influenc', 'inform', 'ingest', 'innov', 'insight', 'insur', 'integr', 'interact', 'intern', 'interperson', 'knowledg', 'languag', 'larg', 'latest', 'lead', 'leadership', 'learn', 'level', 'lieu', 'line', 'long', 'machin', 'make', 'manag', 'manner', 'master', 'matter', 'measur', 'member', 'mentor', 'metadata', 'method', 'metric', 'mllib', 'model', 'movement', 'multipl', 'mxnet', 'natur', 'necessari', 'network', 'new', 'nlp', 'ny', 'offer', 'operation', 'opportun', 'optim', 'oral', 'organiz', 'overse', 'pa', 'packag', 'palo', 'partner', 'perform', 'philadelphia', 'plan', 'platform', 'practic', 'predict', 'present', 'price', 'princip', 'probabl', 'problem', 'process', 'product', 'project', 'propos', 'prototyp', 'proven', 'provid', 'pytorch', 'qualiti', 'quantit', 'queri', 'quickli', 'random', 'rang', 'relat', 'relationship', 'report', 'repositori', 'requir', 'research', 'result', 'risk', 'role', 'scale', 'scienc', 'scientif', 'scientist', 'scikit', 'secur', 'select', 'semant', 'senior', 'set', 'shape', 'share', 'simpl', 'skill', 'softwar', 'solid', 'solut', 'solv', 'sophist', 'sourc', 'special', 'specif', 'speech', 'standard', 'statement', 'statist', 'stay', 'strateg', 'strategi', 'strive', 'strong', 'structur', 'subject', 'supervis', 'support', 'target', 'team', 'technic', 'techniqu', 'technolog', 'tensorflow', 'test', 'text', 'theori', 'think', 'time', 'tool', 'topic', 'troubleshoot', 'uncov', 'understand', 'univers', 'unstructur', 'usag', 'use', 'util', 'valid', 'valu', 'visibl', 'visual', 'voic', 'weka', 'work', 'written', 'year', 'york']\n"
          ],
          "name": "stdout"
        }
      ]
    },
    {
      "cell_type": "code",
      "metadata": {
        "id": "yh8fzXdDBWNc",
        "colab": {
          "base_uri": "https://localhost:8080/",
          "height": 1000
        },
        "outputId": "ebcc456f-8e27-4505-bd35-5ffbf49e55d8"
      },
      "source": [
        "tfidf.todense()"
      ],
      "execution_count": null,
      "outputs": [
        {
          "output_type": "execute_result",
          "data": {
            "text/plain": [
              "matrix([[0.21586658, 0.03597776, 0.        , 0.        , 0.        ,\n",
              "         0.07195553, 0.03597776, 0.        , 0.03597776, 0.03597776,\n",
              "         0.03597776, 0.03597776, 0.02559847, 0.05119695, 0.07679542,\n",
              "         0.        , 0.03597776, 0.        , 0.03597776, 0.        ,\n",
              "         0.        , 0.03597776, 0.02559847, 0.03597776, 0.14391105,\n",
              "         0.03597776, 0.02559847, 0.03597776, 0.07195553, 0.02559847,\n",
              "         0.        , 0.03597776, 0.        , 0.        , 0.03597776,\n",
              "         0.03597776, 0.03597776, 0.03597776, 0.03597776, 0.        ,\n",
              "         0.03597776, 0.12799237, 0.1023939 , 0.07195553, 0.03597776,\n",
              "         0.03597776, 0.02559847, 0.07679542, 0.03597776, 0.03597776,\n",
              "         0.03597776, 0.03597776, 0.07195553, 0.35837864, 0.        ,\n",
              "         0.03597776, 0.07195553, 0.02559847, 0.03597776, 0.07195553,\n",
              "         0.07679542, 0.15359085, 0.03597776, 0.03597776, 0.05119695,\n",
              "         0.        , 0.03597776, 0.03597776, 0.03597776, 0.10793329,\n",
              "         0.03597776, 0.07195553, 0.03597776, 0.07195553, 0.03597776,\n",
              "         0.03597776, 0.03597776, 0.03597776, 0.07195553, 0.05119695,\n",
              "         0.03597776, 0.03597776, 0.        , 0.02559847, 0.        ,\n",
              "         0.03597776, 0.03597776, 0.03597776, 0.07195553, 0.03597776,\n",
              "         0.03597776, 0.14391105, 0.03597776, 0.03597776, 0.03597776,\n",
              "         0.05119695, 0.14391105, 0.03597776, 0.02559847, 0.03597776,\n",
              "         0.        , 0.        , 0.        , 0.05119695, 0.03597776,\n",
              "         0.07195553, 0.03597776, 0.03597776, 0.03597776, 0.02559847,\n",
              "         0.02559847, 0.07195553, 0.03597776, 0.05119695, 0.03597776,\n",
              "         0.1023939 , 0.07195553, 0.        , 0.03597776, 0.03597776,\n",
              "         0.02559847, 0.03597776, 0.1023939 , 0.07195553, 0.        ,\n",
              "         0.03597776, 0.03597776, 0.        , 0.02559847, 0.        ,\n",
              "         0.03597776, 0.03597776, 0.03597776, 0.1023939 , 0.        ,\n",
              "         0.07195553, 0.03597776, 0.02559847, 0.03597776, 0.03597776,\n",
              "         0.07195553, 0.25184434, 0.03597776, 0.03597776, 0.        ,\n",
              "         0.03597776, 0.03597776, 0.03597776, 0.        , 0.        ,\n",
              "         0.03597776, 0.03597776, 0.03597776, 0.03597776, 0.03597776,\n",
              "         0.03597776, 0.03597776, 0.03597776, 0.03597776, 0.05119695,\n",
              "         0.10793329, 0.07195553, 0.10793329, 0.03597776, 0.05119695,\n",
              "         0.05119695, 0.05119695, 0.07679542, 0.03597776, 0.        ,\n",
              "         0.03597776, 0.02559847, 0.03597776, 0.10793329, 0.        ,\n",
              "         0.        , 0.10793329, 0.03597776, 0.07195553, 0.        ,\n",
              "         0.03597776, 0.03597776, 0.        , 0.        , 0.07195553,\n",
              "         0.03597776, 0.03597776, 0.        , 0.03597776, 0.07195553,\n",
              "         0.02559847, 0.15359085, 0.03597776, 0.07195553, 0.07195553,\n",
              "         0.        , 0.03597776, 0.03597776, 0.03597776, 0.03597776,\n",
              "         0.03597776, 0.12799237, 0.10793329, 0.03597776, 0.1023939 ,\n",
              "         0.03597776, 0.03597776, 0.02559847, 0.03597776, 0.03597776,\n",
              "         0.25184434, 0.03597776, 0.03597776, 0.07195553, 0.03597776,\n",
              "         0.07195553, 0.03597776, 0.03597776, 0.17988881, 0.        ,\n",
              "         0.03597776, 0.        , 0.03597776, 0.        , 0.12799237,\n",
              "         0.        , 0.07679542, 0.        , 0.03597776, 0.07195553,\n",
              "         0.        , 0.03597776, 0.03597776, 0.03597776, 0.05119695,\n",
              "         0.        , 0.        , 0.        , 0.02559847, 0.03597776,\n",
              "         0.        , 0.03597776, 0.02559847, 0.03597776, 0.03597776,\n",
              "         0.03597776, 0.03597776, 0.        , 0.03597776, 0.03597776,\n",
              "         0.15359085, 0.03597776, 0.05119695, 0.03597776],\n",
              "        [0.        , 0.        , 0.12739452, 0.06369726, 0.06369726,\n",
              "         0.        , 0.        , 0.06369726, 0.        , 0.        ,\n",
              "         0.        , 0.        , 0.04532112, 0.04532112, 0.09064225,\n",
              "         0.06369726, 0.        , 0.06369726, 0.        , 0.06369726,\n",
              "         0.06369726, 0.        , 0.04532112, 0.        , 0.        ,\n",
              "         0.        , 0.09064225, 0.        , 0.        , 0.04532112,\n",
              "         0.06369726, 0.        , 0.12739452, 0.06369726, 0.        ,\n",
              "         0.        , 0.        , 0.        , 0.        , 0.06369726,\n",
              "         0.        , 0.04532112, 0.04532112, 0.        , 0.        ,\n",
              "         0.        , 0.04532112, 0.04532112, 0.        , 0.        ,\n",
              "         0.        , 0.        , 0.        , 0.63449574, 0.12739452,\n",
              "         0.        , 0.        , 0.1812845 , 0.        , 0.        ,\n",
              "         0.04532112, 0.09064225, 0.        , 0.        , 0.04532112,\n",
              "         0.12739452, 0.        , 0.        , 0.        , 0.        ,\n",
              "         0.        , 0.        , 0.        , 0.        , 0.        ,\n",
              "         0.        , 0.        , 0.        , 0.        , 0.13596337,\n",
              "         0.        , 0.        , 0.06369726, 0.13596337, 0.06369726,\n",
              "         0.        , 0.        , 0.        , 0.        , 0.        ,\n",
              "         0.        , 0.        , 0.        , 0.        , 0.        ,\n",
              "         0.04532112, 0.        , 0.        , 0.04532112, 0.        ,\n",
              "         0.12739452, 0.06369726, 0.06369726, 0.04532112, 0.        ,\n",
              "         0.        , 0.        , 0.        , 0.        , 0.04532112,\n",
              "         0.04532112, 0.        , 0.        , 0.04532112, 0.        ,\n",
              "         0.04532112, 0.        , 0.12739452, 0.        , 0.        ,\n",
              "         0.04532112, 0.        , 0.13596337, 0.        , 0.06369726,\n",
              "         0.        , 0.        , 0.06369726, 0.04532112, 0.06369726,\n",
              "         0.        , 0.        , 0.        , 0.04532112, 0.06369726,\n",
              "         0.        , 0.        , 0.04532112, 0.        , 0.        ,\n",
              "         0.        , 0.        , 0.        , 0.        , 0.06369726,\n",
              "         0.        , 0.        , 0.        , 0.06369726, 0.06369726,\n",
              "         0.        , 0.        , 0.        , 0.        , 0.        ,\n",
              "         0.        , 0.        , 0.        , 0.        , 0.04532112,\n",
              "         0.        , 0.        , 0.        , 0.        , 0.04532112,\n",
              "         0.09064225, 0.04532112, 0.04532112, 0.        , 0.06369726,\n",
              "         0.        , 0.04532112, 0.        , 0.        , 0.06369726,\n",
              "         0.06369726, 0.        , 0.        , 0.        , 0.12739452,\n",
              "         0.        , 0.        , 0.12739452, 0.06369726, 0.        ,\n",
              "         0.        , 0.        , 0.12739452, 0.        , 0.        ,\n",
              "         0.04532112, 0.09064225, 0.        , 0.        , 0.        ,\n",
              "         0.06369726, 0.        , 0.        , 0.        , 0.        ,\n",
              "         0.        , 0.04532112, 0.        , 0.        , 0.04532112,\n",
              "         0.        , 0.        , 0.13596337, 0.        , 0.        ,\n",
              "         0.        , 0.        , 0.        , 0.        , 0.        ,\n",
              "         0.        , 0.        , 0.        , 0.        , 0.06369726,\n",
              "         0.        , 0.06369726, 0.        , 0.06369726, 0.04532112,\n",
              "         0.19109178, 0.09064225, 0.12739452, 0.        , 0.        ,\n",
              "         0.06369726, 0.        , 0.        , 0.        , 0.04532112,\n",
              "         0.06369726, 0.06369726, 0.06369726, 0.04532112, 0.        ,\n",
              "         0.06369726, 0.        , 0.04532112, 0.        , 0.        ,\n",
              "         0.        , 0.        , 0.12739452, 0.        , 0.        ,\n",
              "         0.04532112, 0.        , 0.13596337, 0.        ]])"
            ]
          },
          "metadata": {
            "tags": []
          },
          "execution_count": 219
        }
      ]
    },
    {
      "cell_type": "markdown",
      "metadata": {
        "id": "EUXA42nPBWkV"
      },
      "source": [
        "vectorizer.idf_ will show the idf of each unique word"
      ]
    },
    {
      "cell_type": "code",
      "metadata": {
        "id": "INz2lofVBQLv",
        "colab": {
          "base_uri": "https://localhost:8080/",
          "height": 160
        },
        "outputId": "17dcb41d-84cd-403a-d4f6-12cb19565c10"
      },
      "source": [
        "df1=pd.DataFrame(tfidf.todense(),columns=vectorizer.get_feature_names())\n",
        "df1"
      ],
      "execution_count": null,
      "outputs": [
        {
          "output_type": "execute_result",
          "data": {
            "text/html": [
              "<div>\n",
              "<style scoped>\n",
              "    .dataframe tbody tr th:only-of-type {\n",
              "        vertical-align: middle;\n",
              "    }\n",
              "\n",
              "    .dataframe tbody tr th {\n",
              "        vertical-align: top;\n",
              "    }\n",
              "\n",
              "    .dataframe thead th {\n",
              "        text-align: right;\n",
              "    }\n",
              "</style>\n",
              "<table border=\"1\" class=\"dataframe\">\n",
              "  <thead>\n",
              "    <tr style=\"text-align: right;\">\n",
              "      <th></th>\n",
              "      <th>abil</th>\n",
              "      <th>abl</th>\n",
              "      <th>accept</th>\n",
              "      <th>access</th>\n",
              "      <th>acquisit</th>\n",
              "      <th>ad</th>\n",
              "      <th>adapt</th>\n",
              "      <th>advanc</th>\n",
              "      <th>al</th>\n",
              "      <th>algorithm</th>\n",
              "      <th>alto</th>\n",
              "      <th>ambigu</th>\n",
              "      <th>analys</th>\n",
              "      <th>analysi</th>\n",
              "      <th>analyt</th>\n",
              "      <th>appli</th>\n",
              "      <th>applic</th>\n",
              "      <th>architectur</th>\n",
              "      <th>assist</th>\n",
              "      <th>associ</th>\n",
              "      <th>assur</th>\n",
              "      <th>attent</th>\n",
              "      <th>bachelor</th>\n",
              "      <th>background</th>\n",
              "      <th>base</th>\n",
              "      <th>best</th>\n",
              "      <th>big</th>\n",
              "      <th>boston</th>\n",
              "      <th>build</th>\n",
              "      <th>busi</th>\n",
              "      <th>capabl</th>\n",
              "      <th>capit</th>\n",
              "      <th>certain</th>\n",
              "      <th>certif</th>\n",
              "      <th>champion</th>\n",
              "      <th>chang</th>\n",
              "      <th>clean</th>\n",
              "      <th>clear</th>\n",
              "      <th>close</th>\n",
              "      <th>coach</th>\n",
              "      <th>...</th>\n",
              "      <th>stay</th>\n",
              "      <th>strateg</th>\n",
              "      <th>strategi</th>\n",
              "      <th>strive</th>\n",
              "      <th>strong</th>\n",
              "      <th>structur</th>\n",
              "      <th>subject</th>\n",
              "      <th>supervis</th>\n",
              "      <th>support</th>\n",
              "      <th>target</th>\n",
              "      <th>team</th>\n",
              "      <th>technic</th>\n",
              "      <th>techniqu</th>\n",
              "      <th>technolog</th>\n",
              "      <th>tensorflow</th>\n",
              "      <th>test</th>\n",
              "      <th>text</th>\n",
              "      <th>theori</th>\n",
              "      <th>think</th>\n",
              "      <th>time</th>\n",
              "      <th>tool</th>\n",
              "      <th>topic</th>\n",
              "      <th>troubleshoot</th>\n",
              "      <th>uncov</th>\n",
              "      <th>understand</th>\n",
              "      <th>univers</th>\n",
              "      <th>unstructur</th>\n",
              "      <th>usag</th>\n",
              "      <th>use</th>\n",
              "      <th>util</th>\n",
              "      <th>valid</th>\n",
              "      <th>valu</th>\n",
              "      <th>visibl</th>\n",
              "      <th>visual</th>\n",
              "      <th>voic</th>\n",
              "      <th>weka</th>\n",
              "      <th>work</th>\n",
              "      <th>written</th>\n",
              "      <th>year</th>\n",
              "      <th>york</th>\n",
              "    </tr>\n",
              "  </thead>\n",
              "  <tbody>\n",
              "    <tr>\n",
              "      <th>0</th>\n",
              "      <td>0.215867</td>\n",
              "      <td>0.035978</td>\n",
              "      <td>0.000000</td>\n",
              "      <td>0.000000</td>\n",
              "      <td>0.000000</td>\n",
              "      <td>0.071956</td>\n",
              "      <td>0.035978</td>\n",
              "      <td>0.000000</td>\n",
              "      <td>0.035978</td>\n",
              "      <td>0.035978</td>\n",
              "      <td>0.035978</td>\n",
              "      <td>0.035978</td>\n",
              "      <td>0.025598</td>\n",
              "      <td>0.051197</td>\n",
              "      <td>0.076795</td>\n",
              "      <td>0.000000</td>\n",
              "      <td>0.035978</td>\n",
              "      <td>0.000000</td>\n",
              "      <td>0.035978</td>\n",
              "      <td>0.000000</td>\n",
              "      <td>0.000000</td>\n",
              "      <td>0.035978</td>\n",
              "      <td>0.025598</td>\n",
              "      <td>0.035978</td>\n",
              "      <td>0.143911</td>\n",
              "      <td>0.035978</td>\n",
              "      <td>0.025598</td>\n",
              "      <td>0.035978</td>\n",
              "      <td>0.071956</td>\n",
              "      <td>0.025598</td>\n",
              "      <td>0.000000</td>\n",
              "      <td>0.035978</td>\n",
              "      <td>0.000000</td>\n",
              "      <td>0.000000</td>\n",
              "      <td>0.035978</td>\n",
              "      <td>0.035978</td>\n",
              "      <td>0.035978</td>\n",
              "      <td>0.035978</td>\n",
              "      <td>0.035978</td>\n",
              "      <td>0.000000</td>\n",
              "      <td>...</td>\n",
              "      <td>0.035978</td>\n",
              "      <td>0.071956</td>\n",
              "      <td>0.035978</td>\n",
              "      <td>0.035978</td>\n",
              "      <td>0.179889</td>\n",
              "      <td>0.000000</td>\n",
              "      <td>0.035978</td>\n",
              "      <td>0.000000</td>\n",
              "      <td>0.035978</td>\n",
              "      <td>0.000000</td>\n",
              "      <td>0.127992</td>\n",
              "      <td>0.000000</td>\n",
              "      <td>0.076795</td>\n",
              "      <td>0.000000</td>\n",
              "      <td>0.035978</td>\n",
              "      <td>0.071956</td>\n",
              "      <td>0.000000</td>\n",
              "      <td>0.035978</td>\n",
              "      <td>0.035978</td>\n",
              "      <td>0.035978</td>\n",
              "      <td>0.051197</td>\n",
              "      <td>0.000000</td>\n",
              "      <td>0.000000</td>\n",
              "      <td>0.000000</td>\n",
              "      <td>0.025598</td>\n",
              "      <td>0.035978</td>\n",
              "      <td>0.000000</td>\n",
              "      <td>0.035978</td>\n",
              "      <td>0.025598</td>\n",
              "      <td>0.035978</td>\n",
              "      <td>0.035978</td>\n",
              "      <td>0.035978</td>\n",
              "      <td>0.035978</td>\n",
              "      <td>0.000000</td>\n",
              "      <td>0.035978</td>\n",
              "      <td>0.035978</td>\n",
              "      <td>0.153591</td>\n",
              "      <td>0.035978</td>\n",
              "      <td>0.051197</td>\n",
              "      <td>0.035978</td>\n",
              "    </tr>\n",
              "    <tr>\n",
              "      <th>1</th>\n",
              "      <td>0.000000</td>\n",
              "      <td>0.000000</td>\n",
              "      <td>0.127395</td>\n",
              "      <td>0.063697</td>\n",
              "      <td>0.063697</td>\n",
              "      <td>0.000000</td>\n",
              "      <td>0.000000</td>\n",
              "      <td>0.063697</td>\n",
              "      <td>0.000000</td>\n",
              "      <td>0.000000</td>\n",
              "      <td>0.000000</td>\n",
              "      <td>0.000000</td>\n",
              "      <td>0.045321</td>\n",
              "      <td>0.045321</td>\n",
              "      <td>0.090642</td>\n",
              "      <td>0.063697</td>\n",
              "      <td>0.000000</td>\n",
              "      <td>0.063697</td>\n",
              "      <td>0.000000</td>\n",
              "      <td>0.063697</td>\n",
              "      <td>0.063697</td>\n",
              "      <td>0.000000</td>\n",
              "      <td>0.045321</td>\n",
              "      <td>0.000000</td>\n",
              "      <td>0.000000</td>\n",
              "      <td>0.000000</td>\n",
              "      <td>0.090642</td>\n",
              "      <td>0.000000</td>\n",
              "      <td>0.000000</td>\n",
              "      <td>0.045321</td>\n",
              "      <td>0.063697</td>\n",
              "      <td>0.000000</td>\n",
              "      <td>0.127395</td>\n",
              "      <td>0.063697</td>\n",
              "      <td>0.000000</td>\n",
              "      <td>0.000000</td>\n",
              "      <td>0.000000</td>\n",
              "      <td>0.000000</td>\n",
              "      <td>0.000000</td>\n",
              "      <td>0.063697</td>\n",
              "      <td>...</td>\n",
              "      <td>0.000000</td>\n",
              "      <td>0.000000</td>\n",
              "      <td>0.000000</td>\n",
              "      <td>0.000000</td>\n",
              "      <td>0.000000</td>\n",
              "      <td>0.063697</td>\n",
              "      <td>0.000000</td>\n",
              "      <td>0.063697</td>\n",
              "      <td>0.000000</td>\n",
              "      <td>0.063697</td>\n",
              "      <td>0.045321</td>\n",
              "      <td>0.191092</td>\n",
              "      <td>0.090642</td>\n",
              "      <td>0.127395</td>\n",
              "      <td>0.000000</td>\n",
              "      <td>0.000000</td>\n",
              "      <td>0.063697</td>\n",
              "      <td>0.000000</td>\n",
              "      <td>0.000000</td>\n",
              "      <td>0.000000</td>\n",
              "      <td>0.045321</td>\n",
              "      <td>0.063697</td>\n",
              "      <td>0.063697</td>\n",
              "      <td>0.063697</td>\n",
              "      <td>0.045321</td>\n",
              "      <td>0.000000</td>\n",
              "      <td>0.063697</td>\n",
              "      <td>0.000000</td>\n",
              "      <td>0.045321</td>\n",
              "      <td>0.000000</td>\n",
              "      <td>0.000000</td>\n",
              "      <td>0.000000</td>\n",
              "      <td>0.000000</td>\n",
              "      <td>0.127395</td>\n",
              "      <td>0.000000</td>\n",
              "      <td>0.000000</td>\n",
              "      <td>0.045321</td>\n",
              "      <td>0.000000</td>\n",
              "      <td>0.135963</td>\n",
              "      <td>0.000000</td>\n",
              "    </tr>\n",
              "  </tbody>\n",
              "</table>\n",
              "<p>2 rows × 254 columns</p>\n",
              "</div>"
            ],
            "text/plain": [
              "       abil       abl    accept  ...   written      year      york\n",
              "0  0.215867  0.035978  0.000000  ...  0.035978  0.051197  0.035978\n",
              "1  0.000000  0.000000  0.127395  ...  0.000000  0.135963  0.000000\n",
              "\n",
              "[2 rows x 254 columns]"
            ]
          },
          "metadata": {
            "tags": []
          },
          "execution_count": 220
        }
      ]
    },
    {
      "cell_type": "code",
      "metadata": {
        "id": "WcfLI1sEBo5z"
      },
      "source": [
        ""
      ],
      "execution_count": null,
      "outputs": []
    },
    {
      "cell_type": "markdown",
      "metadata": {
        "id": "Ldv6CrMq0JHw"
      },
      "source": [
        "Now to find the cosine distances of one document (e.g. the first in the dataset) and all of the others you just need to compute the dot products of the first vector with all of the others as the tfidf vectors are already row-normalized.\n",
        "\n",
        "As explained by Chris Clark in comments and here Cosine Similarity does not take into account the magnitude of the vectors. Row-normalised have a magnitude of 1 and so the Linear Kernel is sufficient to calculate the similarity values.\n",
        "\n",
        "The scipy sparse matrix API is a bit weird (not as flexible as dense N-dimensional numpy arrays). To get the first vector you need to slice the matrix row-wise to get a submatrix with a single row"
      ]
    },
    {
      "cell_type": "code",
      "metadata": {
        "id": "RJq3U1qgmuS1",
        "colab": {
          "base_uri": "https://localhost:8080/",
          "height": 51
        },
        "outputId": "c16e96ea-2c5b-4429-dd3c-f6f803cf2ebb"
      },
      "source": [
        "tfidf[0]"
      ],
      "execution_count": null,
      "outputs": [
        {
          "output_type": "execute_result",
          "data": {
            "text/plain": [
              "<1x254 sparse matrix of type '<class 'numpy.float64'>'\n",
              "\twith 208 stored elements in Compressed Sparse Row format>"
            ]
          },
          "metadata": {
            "tags": []
          },
          "execution_count": 221
        }
      ]
    },
    {
      "cell_type": "markdown",
      "metadata": {
        "id": "TOPYdfch0moS"
      },
      "source": [
        "scikit-learn already provides pairwise metrics (a.k.a. kernels in machine learning parlance) that work for both dense and sparse representations of vector collections. In this case we need a dot product that is also known as the linear kernel"
      ]
    },
    {
      "cell_type": "code",
      "metadata": {
        "id": "Y5Vu2xAlm-nX",
        "colab": {
          "base_uri": "https://localhost:8080/",
          "height": 34
        },
        "outputId": "9d7cd82a-c26a-4064-a351-7292c1551c68"
      },
      "source": [
        "from sklearn.metrics.pairwise import linear_kernel\n",
        "cosine_similarities = linear_kernel(tfidf[0], tfidf).flatten()\n",
        "cosine_similarities\n",
        "\n"
      ],
      "execution_count": null,
      "outputs": [
        {
          "output_type": "execute_result",
          "data": {
            "text/plain": [
              "array([1.        , 0.40605308])"
            ]
          },
          "metadata": {
            "tags": []
          },
          "execution_count": 222
        }
      ]
    },
    {
      "cell_type": "code",
      "metadata": {
        "id": "Bn69Y4YHnDBJ",
        "colab": {
          "base_uri": "https://localhost:8080/",
          "height": 34
        },
        "outputId": "0126d1a3-924a-48a4-d210-6f356a54d61c"
      },
      "source": [
        "#get the match percentage\n",
        "cosine_similarities[1]*100"
      ],
      "execution_count": null,
      "outputs": [
        {
          "output_type": "execute_result",
          "data": {
            "text/plain": [
              "40.605307533892656"
            ]
          },
          "metadata": {
            "tags": []
          },
          "execution_count": 223
        }
      ]
    }
  ]
}